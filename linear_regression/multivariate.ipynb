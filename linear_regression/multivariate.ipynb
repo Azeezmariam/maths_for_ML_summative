{
  "cells": [
    {
      "cell_type": "code",
      "source": [
        "#Import libraries\n",
        "import pandas as pd\n",
        "import pickle as pk\n",
        "from sklearn.preprocessing import OneHotEncoder, StandardScaler\n",
        "from sklearn.model_selection import train_test_split\n",
        "from sklearn.linear_model import LinearRegression\n",
        "from sklearn.metrics import mean_squared_error, r2_score"
      ],
      "metadata": {
        "id": "HOlZJq4mN6un"
      },
      "execution_count": 1,
      "outputs": []
    },
    {
      "cell_type": "code",
      "source": [
        "#Load the dataset\n",
        "filepath  = '/content/startup.csv'\n",
        "data = pd.read_csv(filepath)\n",
        "print(data.head(10))"
      ],
      "metadata": {
        "colab": {
          "base_uri": "https://localhost:8080/"
        },
        "id": "TmAUcbpaN-qQ",
        "outputId": "a4a09052-cebd-4a56-db18-f0968883f81e"
      },
      "execution_count": 2,
      "outputs": [
        {
          "output_type": "stream",
          "name": "stdout",
          "text": [
            "   R&D Spend  Administration  Marketing Spend       State     Profit\n",
            "0  165349.20       136897.80        471784.10    New York  192261.83\n",
            "1  162597.70       151377.59        443898.53  California  191792.06\n",
            "2  153441.51       101145.55        407934.54     Florida  191050.39\n",
            "3  144372.41       118671.85        383199.62    New York  182901.99\n",
            "4  142107.34        91391.77        366168.42     Florida  166187.94\n",
            "5  131876.90        99814.71        362861.36    New York  156991.12\n",
            "6  134615.46       147198.87        127716.82  California  156122.51\n",
            "7  130298.13       145530.06        323876.68     Florida  155752.60\n",
            "8  120542.52       148718.95        311613.29    New York  152211.77\n",
            "9  123334.88       108679.17        304981.62  California  149759.96\n"
          ]
        }
      ]
    },
    {
      "cell_type": "code",
      "source": [
        "#Select variable\n",
        "data_copy = data.copy()\n",
        "data_copy.columns = ['Research_And_Development', 'Administration', 'Marketing_Spend', 'State', 'Profit']\n",
        "print(data_copy.head(10))"
      ],
      "metadata": {
        "colab": {
          "base_uri": "https://localhost:8080/"
        },
        "id": "f5eRvic7OE3d",
        "outputId": "9fb93334-5871-400d-9f16-a0992cabc4a9"
      },
      "execution_count": 3,
      "outputs": [
        {
          "output_type": "stream",
          "name": "stdout",
          "text": [
            "   Research_And_Development  Administration  Marketing_Spend       State  \\\n",
            "0                 165349.20       136897.80        471784.10    New York   \n",
            "1                 162597.70       151377.59        443898.53  California   \n",
            "2                 153441.51       101145.55        407934.54     Florida   \n",
            "3                 144372.41       118671.85        383199.62    New York   \n",
            "4                 142107.34        91391.77        366168.42     Florida   \n",
            "5                 131876.90        99814.71        362861.36    New York   \n",
            "6                 134615.46       147198.87        127716.82  California   \n",
            "7                 130298.13       145530.06        323876.68     Florida   \n",
            "8                 120542.52       148718.95        311613.29    New York   \n",
            "9                 123334.88       108679.17        304981.62  California   \n",
            "\n",
            "      Profit  \n",
            "0  192261.83  \n",
            "1  191792.06  \n",
            "2  191050.39  \n",
            "3  182901.99  \n",
            "4  166187.94  \n",
            "5  156991.12  \n",
            "6  156122.51  \n",
            "7  155752.60  \n",
            "8  152211.77  \n",
            "9  149759.96  \n"
          ]
        }
      ]
    },
    {
      "cell_type": "code",
      "source": [
        "#Data cleaning (preprocessed)\n",
        "y = data_copy ['Profit']\n",
        "x = data_copy.drop(columns =['Profit'])\n",
        "categorical_features = ['State']\n",
        "one_hot = OneHotEncoder(sparse_output=False, drop='first')\n",
        "x_encoded = one_hot.fit_transform(x[categorical_features])\n",
        "encoded_columns = one_hot.get_feature_names_out(categorical_features)\n",
        "x_encoded_df = pd.DataFrame(x_encoded, columns=encoded_columns)\n",
        "x_numeric = x.drop(columns = categorical_features)"
      ],
      "metadata": {
        "id": "KTZywMASOGC-"
      },
      "execution_count": 4,
      "outputs": []
    },
    {
      "cell_type": "code",
      "source": [
        "x_preprocessed = pd.concat([x_encoded_df, x_numeric.reset_index(drop =True)], axis=1)\n",
        "\n",
        "x_preprocessed.columns = x_preprocessed.columns.astype(str)\n",
        "scaler  = StandardScaler()\n",
        "x_scaled = scaler.fit_transform(x_preprocessed)\n",
        "print(x_scaled)"
      ],
      "metadata": {
        "colab": {
          "base_uri": "https://localhost:8080/"
        },
        "id": "8WJTFqWgOLxq",
        "outputId": "cd4b1402-d690-416d-dd39-c0d5c1e9ecdb"
      },
      "execution_count": 5,
      "outputs": [
        {
          "output_type": "stream",
          "name": "stdout",
          "text": [
            "[[-6.85994341e-01  1.39326109e+00  2.01641149e+00  5.60752915e-01\n",
            "   2.15394309e+00]\n",
            " [-6.85994341e-01 -7.17740563e-01  1.95586034e+00  1.08280658e+00\n",
            "   1.92360040e+00]\n",
            " [ 1.45773797e+00 -7.17740563e-01  1.75436374e+00 -7.28257028e-01\n",
            "   1.62652767e+00]\n",
            " [-6.85994341e-01  1.39326109e+00  1.55478369e+00 -9.63646307e-02\n",
            "   1.42221024e+00]\n",
            " [ 1.45773797e+00 -7.17740563e-01  1.50493720e+00 -1.07991935e+00\n",
            "   1.28152771e+00]\n",
            " [-6.85994341e-01  1.39326109e+00  1.27980001e+00 -7.76239071e-01\n",
            "   1.25421046e+00]\n",
            " [-6.85994341e-01 -7.17740563e-01  1.34006641e+00  9.32147208e-01\n",
            "  -6.88149930e-01]\n",
            " [ 1.45773797e+00 -7.17740563e-01  1.24505666e+00  8.71980011e-01\n",
            "   9.32185978e-01]\n",
            " [-6.85994341e-01  1.39326109e+00  1.03036886e+00  9.86952101e-01\n",
            "   8.30886909e-01]\n",
            " [-6.85994341e-01 -7.17740563e-01  1.09181921e+00 -4.56640246e-01\n",
            "   7.76107440e-01]\n",
            " [ 1.45773797e+00 -7.17740563e-01  6.20398248e-01 -3.87599089e-01\n",
            "   1.49807267e-01]\n",
            " [-6.85994341e-01 -7.17740563e-01  5.93085418e-01 -1.06553960e+00\n",
            "   3.19833623e-01]\n",
            " [ 1.45773797e+00 -7.17740563e-01  4.43259872e-01  2.15449064e-01\n",
            "   3.20617441e-01]\n",
            " [-6.85994341e-01 -7.17740563e-01  4.02077603e-01  5.10178953e-01\n",
            "   3.43956788e-01]\n",
            " [ 1.45773797e+00 -7.17740563e-01  1.01718075e+00  1.26919939e+00\n",
            "   3.75742273e-01]\n",
            " [-6.85994341e-01  1.39326109e+00  8.97913123e-01  4.58678535e-02\n",
            "   4.19218702e-01]\n",
            " [-6.85994341e-01 -7.17740563e-01  9.44411957e-02  9.11841968e-03\n",
            "   4.40446224e-01]\n",
            " [-6.85994341e-01  1.39326109e+00  4.60720127e-01  8.55666318e-01\n",
            "   5.91016724e-01]\n",
            " [ 1.45773797e+00 -7.17740563e-01  3.96724938e-01 -2.58465367e-01\n",
            "   6.92992062e-01]\n",
            " [-6.85994341e-01  1.39326109e+00  2.79441650e-01  1.15983657e+00\n",
            "  -1.74312698e+00]\n",
            " [-6.85994341e-01 -7.17740563e-01  5.57260867e-02 -2.69587651e-01\n",
            "   7.23925995e-01]\n",
            " [-6.85994341e-01  1.39326109e+00  1.02723599e-01  1.16918609e+00\n",
            "   7.32787791e-01]\n",
            " [ 1.45773797e+00 -7.17740563e-01  6.00657792e-03  5.18495648e-02\n",
            "   7.62375876e-01]\n",
            " [ 1.45773797e+00 -7.17740563e-01 -1.36200724e-01 -5.62211268e-01\n",
            "   7.74348908e-01]\n",
            " [-6.85994341e-01  1.39326109e+00  7.31146008e-02 -7.95469167e-01\n",
            "  -5.81939297e-01]\n",
            " [-6.85994341e-01 -7.17740563e-01 -1.99311688e-01  6.56489139e-01\n",
            "  -6.03516725e-01]\n",
            " [ 1.45773797e+00 -7.17740563e-01  3.53702028e-02  8.21717916e-01\n",
            "  -6.35835495e-01]\n",
            " [-6.85994341e-01  1.39326109e+00 -3.55189938e-02  2.35068543e-01\n",
            "   1.17427116e+00]\n",
            " [ 1.45773797e+00 -7.17740563e-01 -1.68792717e-01  2.21014050e+00\n",
            "  -7.67189437e-01]\n",
            " [-6.85994341e-01  1.39326109e+00 -1.78608540e-01  1.14245677e+00\n",
            "  -8.58133663e-01]\n",
            " [ 1.45773797e+00 -7.17740563e-01 -2.58074369e-01 -2.05628659e-01\n",
            "  -9.90357166e-01]\n",
            " [-6.85994341e-01  1.39326109e+00 -2.76958231e-01  1.13055391e+00\n",
            "  -1.01441945e+00]\n",
            " [-6.85994341e-01 -7.17740563e-01 -2.26948675e-01  2.83923813e-01\n",
            "  -1.36244978e+00]\n",
            " [ 1.45773797e+00 -7.17740563e-01 -4.01128925e-01 -6.59324033e-01\n",
            "   2.98172434e-02]\n",
            " [-6.85994341e-01 -7.17740563e-01 -6.00682122e-01  1.31053525e+00\n",
            "  -1.87861793e-03]\n",
            " [-6.85994341e-01  1.39326109e+00 -6.09749941e-01 -1.30865753e+00\n",
            "  -4.54931587e-02]\n",
            " [ 1.45773797e+00 -7.17740563e-01 -9.91570153e-01  2.05924691e-01\n",
            "  -8.17625734e-02]\n",
            " [-6.85994341e-01 -7.17740563e-01 -6.52532310e-01 -2.52599402e+00\n",
            "  -1.15608256e-01]\n",
            " [-6.85994341e-01  1.39326109e+00 -1.17717755e+00 -1.99727037e+00\n",
            "  -2.12784866e-01]\n",
            " [-6.85994341e-01 -7.17740563e-01 -7.73820359e-01 -1.38312156e+00\n",
            "  -2.97583276e-01]\n",
            " [-6.85994341e-01 -7.17740563e-01 -9.89577015e-01 -1.00900218e-01\n",
            "  -3.15785883e-01]\n",
            " [ 1.45773797e+00 -7.17740563e-01 -1.00853372e+00 -1.32079581e+00\n",
            "  -3.84552407e-01]\n",
            " [-6.85994341e-01 -7.17740563e-01 -1.10210556e+00 -9.06937535e-01\n",
            "  -5.20595959e-01]\n",
            " [-6.85994341e-01  1.39326109e+00 -1.28113364e+00  2.17681524e-01\n",
            "  -1.44960468e+00]\n",
            " [-6.85994341e-01 -7.17740563e-01 -1.13430539e+00  1.20641936e+00\n",
            "  -1.50907418e+00]\n",
            " [-6.85994341e-01  1.39326109e+00 -1.60035036e+00  1.01253936e-01\n",
            "  -1.72739998e+00]\n",
            " [ 1.45773797e+00 -7.17740563e-01 -1.59341322e+00 -1.99321741e-01\n",
            "   7.11122474e-01]\n",
            " [-6.85994341e-01 -7.17740563e-01 -1.62236202e+00  5.07721876e-01\n",
            "  -1.74312698e+00]\n",
            " [-6.85994341e-01  1.39326109e+00 -1.61043334e+00 -2.50940884e+00\n",
            "  -1.74312698e+00]\n",
            " [-6.85994341e-01 -7.17740563e-01 -1.62236202e+00 -1.57225506e-01\n",
            "  -1.36998473e+00]]\n"
          ]
        }
      ]
    },
    {
      "cell_type": "code",
      "source": [
        "#Train and test the model\n",
        "x_train, x_test, y_train, y_test = train_test_split(x_scaled, y, test_size=0.2, random_state=42)\n",
        "\n",
        "model = LinearRegression()\n",
        "model.fit(x_train, y_train)\n"
      ],
      "metadata": {
        "colab": {
          "base_uri": "https://localhost:8080/",
          "height": 75
        },
        "id": "2NRYzA6jOQUY",
        "outputId": "88b5a87f-117f-4115-85a2-226053620c40"
      },
      "execution_count": 6,
      "outputs": [
        {
          "output_type": "execute_result",
          "data": {
            "text/plain": [
              "LinearRegression()"
            ],
            "text/html": [
              "<style>#sk-container-id-1 {color: black;background-color: white;}#sk-container-id-1 pre{padding: 0;}#sk-container-id-1 div.sk-toggleable {background-color: white;}#sk-container-id-1 label.sk-toggleable__label {cursor: pointer;display: block;width: 100%;margin-bottom: 0;padding: 0.3em;box-sizing: border-box;text-align: center;}#sk-container-id-1 label.sk-toggleable__label-arrow:before {content: \"▸\";float: left;margin-right: 0.25em;color: #696969;}#sk-container-id-1 label.sk-toggleable__label-arrow:hover:before {color: black;}#sk-container-id-1 div.sk-estimator:hover label.sk-toggleable__label-arrow:before {color: black;}#sk-container-id-1 div.sk-toggleable__content {max-height: 0;max-width: 0;overflow: hidden;text-align: left;background-color: #f0f8ff;}#sk-container-id-1 div.sk-toggleable__content pre {margin: 0.2em;color: black;border-radius: 0.25em;background-color: #f0f8ff;}#sk-container-id-1 input.sk-toggleable__control:checked~div.sk-toggleable__content {max-height: 200px;max-width: 100%;overflow: auto;}#sk-container-id-1 input.sk-toggleable__control:checked~label.sk-toggleable__label-arrow:before {content: \"▾\";}#sk-container-id-1 div.sk-estimator input.sk-toggleable__control:checked~label.sk-toggleable__label {background-color: #d4ebff;}#sk-container-id-1 div.sk-label input.sk-toggleable__control:checked~label.sk-toggleable__label {background-color: #d4ebff;}#sk-container-id-1 input.sk-hidden--visually {border: 0;clip: rect(1px 1px 1px 1px);clip: rect(1px, 1px, 1px, 1px);height: 1px;margin: -1px;overflow: hidden;padding: 0;position: absolute;width: 1px;}#sk-container-id-1 div.sk-estimator {font-family: monospace;background-color: #f0f8ff;border: 1px dotted black;border-radius: 0.25em;box-sizing: border-box;margin-bottom: 0.5em;}#sk-container-id-1 div.sk-estimator:hover {background-color: #d4ebff;}#sk-container-id-1 div.sk-parallel-item::after {content: \"\";width: 100%;border-bottom: 1px solid gray;flex-grow: 1;}#sk-container-id-1 div.sk-label:hover label.sk-toggleable__label {background-color: #d4ebff;}#sk-container-id-1 div.sk-serial::before {content: \"\";position: absolute;border-left: 1px solid gray;box-sizing: border-box;top: 0;bottom: 0;left: 50%;z-index: 0;}#sk-container-id-1 div.sk-serial {display: flex;flex-direction: column;align-items: center;background-color: white;padding-right: 0.2em;padding-left: 0.2em;position: relative;}#sk-container-id-1 div.sk-item {position: relative;z-index: 1;}#sk-container-id-1 div.sk-parallel {display: flex;align-items: stretch;justify-content: center;background-color: white;position: relative;}#sk-container-id-1 div.sk-item::before, #sk-container-id-1 div.sk-parallel-item::before {content: \"\";position: absolute;border-left: 1px solid gray;box-sizing: border-box;top: 0;bottom: 0;left: 50%;z-index: -1;}#sk-container-id-1 div.sk-parallel-item {display: flex;flex-direction: column;z-index: 1;position: relative;background-color: white;}#sk-container-id-1 div.sk-parallel-item:first-child::after {align-self: flex-end;width: 50%;}#sk-container-id-1 div.sk-parallel-item:last-child::after {align-self: flex-start;width: 50%;}#sk-container-id-1 div.sk-parallel-item:only-child::after {width: 0;}#sk-container-id-1 div.sk-dashed-wrapped {border: 1px dashed gray;margin: 0 0.4em 0.5em 0.4em;box-sizing: border-box;padding-bottom: 0.4em;background-color: white;}#sk-container-id-1 div.sk-label label {font-family: monospace;font-weight: bold;display: inline-block;line-height: 1.2em;}#sk-container-id-1 div.sk-label-container {text-align: center;}#sk-container-id-1 div.sk-container {/* jupyter's `normalize.less` sets `[hidden] { display: none; }` but bootstrap.min.css set `[hidden] { display: none !important; }` so we also need the `!important` here to be able to override the default hidden behavior on the sphinx rendered scikit-learn.org. See: https://github.com/scikit-learn/scikit-learn/issues/21755 */display: inline-block !important;position: relative;}#sk-container-id-1 div.sk-text-repr-fallback {display: none;}</style><div id=\"sk-container-id-1\" class=\"sk-top-container\"><div class=\"sk-text-repr-fallback\"><pre>LinearRegression()</pre><b>In a Jupyter environment, please rerun this cell to show the HTML representation or trust the notebook. <br />On GitHub, the HTML representation is unable to render, please try loading this page with nbviewer.org.</b></div><div class=\"sk-container\" hidden><div class=\"sk-item\"><div class=\"sk-estimator sk-toggleable\"><input class=\"sk-toggleable__control sk-hidden--visually\" id=\"sk-estimator-id-1\" type=\"checkbox\" checked><label for=\"sk-estimator-id-1\" class=\"sk-toggleable__label sk-toggleable__label-arrow\">LinearRegression</label><div class=\"sk-toggleable__content\"><pre>LinearRegression()</pre></div></div></div></div></div>"
            ]
          },
          "metadata": {},
          "execution_count": 6
        }
      ]
    },
    {
      "cell_type": "code",
      "source": [
        "#predict  model\n",
        "y_pred = model.predict(x_test)\n",
        "print(y_pred)\n",
        "print(y_test)"
      ],
      "metadata": {
        "colab": {
          "base_uri": "https://localhost:8080/"
        },
        "id": "sz7t3W-NOXq8",
        "outputId": "cd32b78b-10c2-4ee6-c97c-d35a9f1f4e21"
      },
      "execution_count": 7,
      "outputs": [
        {
          "output_type": "stream",
          "name": "stdout",
          "text": [
            "[126362.87908252  84608.45383643  99677.49425155  46357.46068582\n",
            " 128750.48288497  50912.41741905 109741.350327   100643.24281644\n",
            "  97599.275746   113097.42524437]\n",
            "13    134307.35\n",
            "39     81005.76\n",
            "30     99937.59\n",
            "45     64926.08\n",
            "17    125370.37\n",
            "48     35673.41\n",
            "26    105733.54\n",
            "25    107404.34\n",
            "32     97427.84\n",
            "19    122776.86\n",
            "Name: Profit, dtype: float64\n"
          ]
        }
      ]
    },
    {
      "cell_type": "code",
      "source": [
        "#check if model is good\n",
        "mse = mean_squared_error(y_test, y_pred, squared = False)\n",
        "print(mse)\n",
        "\n",
        "model_score = model.score (x_test, y_test)*100\n",
        "print(model_score)\n"
      ],
      "metadata": {
        "colab": {
          "base_uri": "https://localhost:8080/"
        },
        "id": "oIBRRXk3ObYq",
        "outputId": "46cc2ba1-0e1a-4e52-f4db-87c56134e38d"
      },
      "execution_count": 8,
      "outputs": [
        {
          "output_type": "stream",
          "name": "stdout",
          "text": [
            "9055.95732349781\n",
            "89.87266414319838\n"
          ]
        }
      ]
    },
    {
      "cell_type": "code",
      "source": [
        "#Saving my model using pickle\n",
        "with open('model.pkl', 'wb') as file:\n",
        "    pk.dump(model, file)\n"
      ],
      "metadata": {
        "id": "DAaO-J8hOfFn"
      },
      "execution_count": 9,
      "outputs": []
    }
  ],
  "metadata": {
    "colab": {
      "provenance": []
    },
    "kernelspec": {
      "display_name": "Python 3",
      "name": "python3"
    },
    "language_info": {
      "name": "python"
    }
  },
  "nbformat": 4,
  "nbformat_minor": 0
}